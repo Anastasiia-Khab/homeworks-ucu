{
 "cells": [
  {
   "cell_type": "markdown",
   "metadata": {},
   "source": [
    "\n",
    "##### by Anastasiia Khaburska\n",
    "\n",
    "## Homework 5\n",
    "\n",
    "module : **Deep Learning for NLP**\n",
    "\n",
    "\n",
    "The goal of the homework is to develop a tool for Named Entity Recognition. You need to implement model **”Glove word embeddings + BiLSTM + Softmax”** for sequence labeling. Please, use the standard PyTorch example for the sequence labeling task ”Sequence models and long-short term memory networks”(https://pytorch.org/tutorials/beginner/nlp/sequence_models_tutorial.html#sphx-glr-beginner-nlp-sequence-models-tutorial-py) as a basic code to start. Glove word embeddings can be downloaded here (http://neuroner.com/data/word_vectors/glove.6B.100d.zip)."
   ]
  },
  {
   "cell_type": "code",
   "execution_count": 27,
   "metadata": {},
   "outputs": [],
   "source": [
    "import torch\n",
    "import torch.nn as nn\n",
    "import torch.nn.functional as F\n",
    "import torch.optim as optim\n",
    "\n",
    "torch.manual_seed(1)\n",
    "\n",
    "import pandas as pd\n",
    "import numpy as np\n",
    "import gensim\n",
    "import pickle\n",
    "import os\n",
    "import pandas as pd \n"
   ]
  },
  {
   "cell_type": "markdown",
   "metadata": {},
   "source": [
    "### **Task 1**: \n",
    "Implement functionality to read and process NER 2003 English Shared Task data in CoNNL file format, data will be provided (10% of score)."
   ]
  },
  {
   "cell_type": "code",
   "execution_count": 2,
   "metadata": {},
   "outputs": [],
   "source": [
    "def process(filename):\n",
    "    with open(f'data/{filename}.txt') as file:\n",
    "        size = 0\n",
    "        for line in file:\n",
    "            if line != '\\n':\n",
    "                w, _, _, _ = line.split(' ')\n",
    "                if (w!='-DOCSTART-'):\n",
    "                    size+=1\n",
    "    \n",
    "    df = pd.DataFrame(\n",
    "            columns=['sentence', 'word', 'POS_tag', 'SCHUNK_tag', 'NE_tag'],\n",
    "            data=np.zeros((size, 5))\n",
    "        )\n",
    "    df[:] = ''\n",
    "    with open(f'data/{filename}.txt') as file:\n",
    "        index = 0\n",
    "        word = 0\n",
    "        for line in file:\n",
    "            if line == '\\n':\n",
    "                index += 1\n",
    "            else:\n",
    "                w, p, s, n = line.split(' ')\n",
    "                if (w!='-DOCSTART-'):\n",
    "                    df.at[word, 'sentence'] = int(index)\n",
    "                    df.at[word, 'word'] = w.strip()\n",
    "                    df.at[word, 'POS_tag'] = p.strip()\n",
    "                    df.at[word, 'SCHUNK_tag'] = s.strip()               \n",
    "                    df.at[word, 'NE_tag'] = n.strip()\n",
    "                    word += 1\n",
    "        return df"
   ]
  },
  {
   "cell_type": "code",
   "execution_count": 3,
   "metadata": {},
   "outputs": [],
   "source": [
    "train = process('train')\n",
    "dev = process('dev')\n",
    "test = process('test')"
   ]
  },
  {
   "cell_type": "code",
   "execution_count": 4,
   "metadata": {},
   "outputs": [
    {
     "name": "stdout",
     "output_type": "stream",
     "text": [
      "Length of train: 203621\n",
      "Length of  dev:   51362\n",
      "Length of  test:  46435\n"
     ]
    }
   ],
   "source": [
    "print(f\"Length of train: {len(train)}\")\n",
    "print(f\"Length of  dev:   {len(dev)}\")\n",
    "print(f\"Length of  test:  {len(test)}\")"
   ]
  },
  {
   "cell_type": "code",
   "execution_count": 5,
   "metadata": {},
   "outputs": [
    {
     "name": "stdout",
     "output_type": "stream",
     "text": [
      "Number of sentences in train: 14041\n",
      "Number of sentences in dev:   3250\n",
      "Number of sentences in test:  3453\n"
     ]
    }
   ],
   "source": [
    "print(f\"Number of sentences in train: {len(train['sentence'].unique())}\")\n",
    "print(f\"Number of sentences in dev:   {len(dev['sentence'].unique())}\")\n",
    "print(f\"Number of sentences in test:  {len(test['sentence'].unique())}\")"
   ]
  },
  {
   "cell_type": "code",
   "execution_count": 6,
   "metadata": {},
   "outputs": [
    {
     "name": "stdout",
     "output_type": "stream",
     "text": [
      "Named entity tags: ['B-LOC', 'B-MISC', 'B-ORG', 'B-PER', 'I-LOC', 'I-MISC', 'I-ORG', 'I-PER', 'O']\n"
     ]
    }
   ],
   "source": [
    "print(\"Named entity tags:\",sorted(train['NE_tag'].unique()))"
   ]
  },
  {
   "cell_type": "markdown",
   "metadata": {},
   "source": [
    "**Prepare data:**"
   ]
  },
  {
   "cell_type": "code",
   "execution_count": 7,
   "metadata": {},
   "outputs": [],
   "source": [
    "def prepare_sequence(seq, to_ix):\n",
    "    \n",
    "    idxs = [to_ix[w] for w in seq]\n",
    "    \n",
    "    return torch.tensor(idxs, dtype=torch.long)"
   ]
  },
  {
   "cell_type": "code",
   "execution_count": 8,
   "metadata": {},
   "outputs": [],
   "source": [
    "tag_to_ix = {'B-LOC':0, 'B-MISC':1, 'B-ORG':2, 'B-PER':3, 'I-LOC':4, 'I-MISC':5, 'I-ORG':6, 'I-PER':7, 'O':8}"
   ]
  },
  {
   "cell_type": "code",
   "execution_count": 9,
   "metadata": {},
   "outputs": [],
   "source": [
    "word_to_ix = {}\n",
    "\n",
    "for word in train['word']:\n",
    "    if word not in word_to_ix:\n",
    "        word_to_ix[word] = len(word_to_ix)\n",
    "for word in dev['word']:\n",
    "    if word not in word_to_ix:\n",
    "        word_to_ix[word] = len(word_to_ix)\n",
    "for word in test['word']:\n",
    "    if word not in word_to_ix:\n",
    "        word_to_ix[word] = len(word_to_ix)"
   ]
  },
  {
   "cell_type": "code",
   "execution_count": 11,
   "metadata": {},
   "outputs": [
    {
     "name": "stdout",
     "output_type": "stream",
     "text": [
      "30289\n"
     ]
    }
   ],
   "source": [
    "vocab_size = len(word_to_ix)\n",
    "\n",
    "print(vocab_size)"
   ]
  },
  {
   "cell_type": "markdown",
   "metadata": {},
   "source": [
    "### **Task 2**: \n",
    "\n",
    "Implement 3 strategies for loading the embeddings:"
   ]
  },
  {
   "cell_type": "code",
   "execution_count": 12,
   "metadata": {},
   "outputs": [],
   "source": [
    "glove_embeddings= {}\n",
    "\n",
    "with open('data/glove.6B.100d.txt', 'r') as file:\n",
    "    for line in file:\n",
    "        elements = line.split(' ')\n",
    "        word = elements[0]\n",
    "        word_embedding = np.array([float(val) for val in elements[1:]])\n",
    "        glove_embeddings[word] = word_embedding"
   ]
  },
  {
   "cell_type": "code",
   "execution_count": 13,
   "metadata": {},
   "outputs": [
    {
     "name": "stdout",
     "output_type": "stream",
     "text": [
      "Embedding vector length:  100\n"
     ]
    }
   ],
   "source": [
    "embedding_length=len(glove_embeddings['the'])\n",
    "print(\"Embedding vector length: \", embedding_length)"
   ]
  },
  {
   "cell_type": "markdown",
   "metadata": {},
   "source": [
    "**(a):** load the embeddings for original capitalization of words. If embedding for this word doesn’t exists, associate it with UNKNOWN embedding (5% of score)."
   ]
  },
  {
   "cell_type": "code",
   "execution_count": 14,
   "metadata": {},
   "outputs": [],
   "source": [
    "embeddings_matrix_a = np.zeros((vocab_size, 100))\n",
    "unknown_a=0\n",
    "for word, ix in word_to_ix.items():\n",
    "    try:\n",
    "        embeddings_matrix_a[ix, :] = glove_embeddings[word]\n",
    "    except KeyError as e:\n",
    "        embeddings_matrix_a[ix, :] = glove_embeddings['unknown']\n",
    "        unknown_a+=1"
   ]
  },
  {
   "cell_type": "code",
   "execution_count": 15,
   "metadata": {},
   "outputs": [
    {
     "name": "stdout",
     "output_type": "stream",
     "text": [
      "Number of unknown:  15671\n"
     ]
    }
   ],
   "source": [
    "print(\"Number of unknown: \", unknown_a )"
   ]
  },
  {
   "cell_type": "markdown",
   "metadata": {},
   "source": [
    "**(b).** load the embeddings for lowercased capitalization of words. If embedding for this lowercased word doesn’t exists, associate it with UNKNOWN embedding (5% of score)."
   ]
  },
  {
   "cell_type": "code",
   "execution_count": 16,
   "metadata": {},
   "outputs": [],
   "source": [
    "embeddings_matrix_b = np.zeros((vocab_size, 100))\n",
    "unknown_b=0\n",
    "for word, ix in word_to_ix.items():\n",
    "    try:\n",
    "        embeddings_matrix_b[ix, :] = glove_embeddings[word.lower()]\n",
    "    except KeyError as e:\n",
    "        embeddings_matrix_b[ix, :] = glove_embeddings['unknown']\n",
    "        unknown_b+=1        "
   ]
  },
  {
   "cell_type": "code",
   "execution_count": 17,
   "metadata": {},
   "outputs": [
    {
     "name": "stdout",
     "output_type": "stream",
     "text": [
      "Number of unknown:  3949\n"
     ]
    }
   ],
   "source": [
    "print(\"Number of unknown: \", unknown_b)"
   ]
  },
  {
   "cell_type": "markdown",
   "metadata": {},
   "source": [
    "**(c).** load the embeddings for original capitalization of words. If embedding for this word doesn’t exists, try to find the embedding for lowercased version and associate it to the word with original capitalization. Otherwise, associate it with UNKNOWN embedding(20% of score)."
   ]
  },
  {
   "cell_type": "code",
   "execution_count": 18,
   "metadata": {},
   "outputs": [],
   "source": [
    "embeddings_matrix_c = np.zeros((vocab_size, 100))\n",
    "unknown_c=0\n",
    "for word, ix in word_to_ix.items():\n",
    "    if word in glove_embeddings:\n",
    "        embeddings_matrix_c[ix, :] = glove_embeddings[word]\n",
    "    elif word.lower() in glove_embeddings:\n",
    "        embeddings_matrix_c[ix, :] = glove_embeddings[word.lower()]\n",
    "    else:\n",
    "        embeddings_matrix_c[ix, :] = glove_embeddings['unknown']\n",
    "        unknown_c+=1"
   ]
  },
  {
   "cell_type": "code",
   "execution_count": 19,
   "metadata": {},
   "outputs": [
    {
     "name": "stdout",
     "output_type": "stream",
     "text": [
      "Number of unknown:  3949\n"
     ]
    }
   ],
   "source": [
    "print(\"Number of unknown: \", unknown_c)"
   ]
  },
  {
   "cell_type": "markdown",
   "metadata": {},
   "source": [
    "### **Task 3**: \n",
    "\n",
    "Implement training on batches (20% of score)."
   ]
  },
  {
   "cell_type": "code",
   "execution_count": 20,
   "metadata": {},
   "outputs": [],
   "source": [
    "EMBEDDING_DIM = embedding_length\n",
    "HIDDEN_DIM = 50\n",
    "EMBEDDING_MATRIX=embeddings_matrix_c\n",
    "VOCAB_SIZE=EMBEDDING_MATRIX.shape[0]\n",
    "TARGET_SIZE=len(tag_to_ix)"
   ]
  },
  {
   "cell_type": "code",
   "execution_count": 40,
   "metadata": {},
   "outputs": [],
   "source": [
    "training_data = []\n",
    "dev_data = []\n",
    "test_data = []\n",
    "train_grouped = train.groupby(['sentence']).agg(lambda x: list(x)).reset_index(drop=True)\n",
    "for i in range(len(train_grouped)):\n",
    "    training_data.append((train_grouped.loc[i, 'word'], train_grouped.loc[i, 'NE_tag']))\n",
    "dev_grouped = dev.groupby(['sentence']).agg(lambda x: list(x)).reset_index(drop=True)\n",
    "for i in range(len(dev_grouped)):\n",
    "    dev_data.append((dev_grouped.loc[i, 'word'], dev_grouped.loc[i, 'NE_tag']))\n",
    "test_grouped = test.groupby(['sentence']).agg(lambda x: list(x)).reset_index(drop=True)\n",
    "for i in range(len(test_grouped)):\n",
    "    test_data.append((test_grouped.loc[i, 'word'], test_grouped.loc[i, 'NE_tag']))"
   ]
  },
  {
   "cell_type": "code",
   "execution_count": 22,
   "metadata": {},
   "outputs": [
    {
     "data": {
      "text/plain": [
       "(['EU', 'rejects', 'German', 'call', 'to', 'boycott', 'British', 'lamb', '.'],\n",
       " ['B-ORG', 'O', 'B-MISC', 'O', 'O', 'O', 'B-MISC', 'O', 'O'])"
      ]
     },
     "execution_count": 22,
     "metadata": {},
     "output_type": "execute_result"
    }
   ],
   "source": [
    "training_data [0]"
   ]
  },
  {
   "cell_type": "code",
   "execution_count": 23,
   "metadata": {},
   "outputs": [],
   "source": [
    "class LSTMTagger(nn.Module):\n",
    "\n",
    "    def __init__(self,embedding_dim, hidden_dim, vocab_size, tagset_size):\n",
    "        super(LSTMTagger, self).__init__()\n",
    "        self.hidden_dim = hidden_dim\n",
    "        \n",
    "        self.word_embeddings = nn.Embedding(vocab_size, embedding_dim).from_pretrained(\n",
    "        torch.tensor(EMBEDDING_MATRIX, dtype=torch.float))\n",
    "        self.word_embeddings.weight.requires_grad = False\n",
    "        \n",
    "        # The LSTM takes word embeddings as inputs, and outputs hidden states\n",
    "        # with dimensionality hidden_dim.\n",
    "        self.lstm = nn.LSTM(embedding_dim, hidden_dim)\n",
    "\n",
    "        # The linear layer that maps from hidden state space to tag space\n",
    "        self.hidden2tag = nn.Linear(hidden_dim, tagset_size)\n",
    "\n",
    "    def forward(self, sentence):\n",
    "        embeds = self.word_embeddings(sentence)\n",
    "        lstm_out, _ = self.lstm(embeds.view(len(sentence), 1, -1))\n",
    "        tag_space = self.hidden2tag(lstm_out.view(len(sentence), -1))\n",
    "        tag_scores = F.log_softmax(tag_space, dim=1)\n",
    "        return tag_scores"
   ]
  },
  {
   "cell_type": "code",
   "execution_count": 26,
   "metadata": {},
   "outputs": [
    {
     "name": "stdout",
     "output_type": "stream",
     "text": [
      "Start training..............:\n",
      "Epoch 0 : Loss 0.15103602409362793\n",
      "Epoch 1 : Loss 0.14554905891418457\n",
      "Epoch 2 : Loss 0.10618782043457031\n",
      "Epoch 3 : Loss 0.09880781173706055\n",
      "Epoch 4 : Loss 0.07561063766479492\n",
      "Epoch 5 : Loss 0.06079506874084473\n",
      "Epoch 6 : Loss 0.052024126052856445\n",
      "Epoch 7 : Loss 0.048589468002319336\n",
      "Epoch 8 : Loss 0.04235219955444336\n",
      "Epoch 9 : Loss 0.03465390205383301\n",
      "Epoch 10 : Loss 0.030825138092041016\n",
      "Epoch 11 : Loss 0.027204275131225586\n",
      "Epoch 12 : Loss 0.0226137638092041\n",
      "Epoch 13 : Loss 0.021651268005371094\n",
      "Epoch 14 : Loss 0.01965045928955078\n",
      "Epoch 15 : Loss 0.01956796646118164\n",
      "Epoch 16 : Loss 0.01625514030456543\n",
      "Epoch 17 : Loss 0.015863418579101562\n",
      "Epoch 18 : Loss 0.013532161712646484\n",
      "Epoch 19 : Loss 0.012593746185302734\n",
      "Epoch 20 : Loss 0.01140904426574707\n",
      "Epoch 21 : Loss 0.009791851043701172\n",
      "Epoch 22 : Loss 0.008656024932861328\n",
      "Epoch 23 : Loss 0.010126829147338867\n",
      "Epoch 24 : Loss 0.010091304779052734\n",
      "Epoch 25 : Loss 0.010461091995239258\n",
      "Epoch 26 : Loss 0.009008646011352539\n",
      "Epoch 27 : Loss 0.012111425399780273\n",
      "Epoch 28 : Loss 0.009252309799194336\n",
      "Epoch 29 : Loss 0.010833024978637695\n"
     ]
    }
   ],
   "source": [
    "model = LSTMTagger(EMBEDDING_DIM , HIDDEN_DIM, VOCAB_SIZE, TARGET_SIZE)\n",
    "loss_function = nn.NLLLoss()\n",
    "optimizer = optim.SGD(model.parameters(), lr=0.1)\n",
    "losses=[]\n",
    "epochs=[]\n",
    "\n",
    "print(\"Start training..............:\")\n",
    "for epoch in range(30): \n",
    "    for sentence, tags in training_data:\n",
    "        # Step 1. Remember that Pytorch accumulates gradients.\n",
    "        # We need to clear them out before each instance        \n",
    "        model.zero_grad()\n",
    "\n",
    "        # Step 2. Get our inputs ready for the network, that is, turn them into\n",
    "        # Tensors of word indices.\n",
    "        sentence_in = prepare_sequence(sentence, word_to_ix)\n",
    "        targets = prepare_sequence(tags, tag_to_ix)\n",
    "\n",
    "        \n",
    "        # Step 3. Run our forward pass.\n",
    "        tag_scores = model(sentence_in)\n",
    "\n",
    "        # Step 4. Compute the loss, gradients, and update the parameters by\n",
    "        #  calling optimizer.step()\n",
    "        loss = loss_function(tag_scores, targets)\n",
    "        loss.backward()\n",
    "        optimizer.step()\n",
    "    losses.append(loss.item())\n",
    "    epochs.append(epoch)\n",
    "    print(f'Epoch {epoch} : Loss {loss.item()}')"
   ]
  },
  {
   "cell_type": "code",
   "execution_count": 28,
   "metadata": {},
   "outputs": [],
   "source": [
    "filename = 'data/model30.pkl'\n",
    "output = open(filename, 'wb')\n",
    "#pickle.dump(model,output)\n",
    "with open(filename, 'rb') as pickle_file:\n",
    "    model_loaded = pickle.load(pickle_file)"
   ]
  },
  {
   "cell_type": "code",
   "execution_count": 29,
   "metadata": {},
   "outputs": [
    {
     "data": {
      "text/plain": [
       "LSTMTagger(\n",
       "  (word_embeddings): Embedding(30289, 100)\n",
       "  (lstm): LSTM(100, 50)\n",
       "  (hidden2tag): Linear(in_features=50, out_features=9, bias=True)\n",
       ")"
      ]
     },
     "execution_count": 29,
     "metadata": {},
     "output_type": "execute_result"
    }
   ],
   "source": [
    "model"
   ]
  },
  {
   "cell_type": "code",
   "execution_count": 31,
   "metadata": {},
   "outputs": [
    {
     "data": {
      "text/plain": [
       "LSTMTagger(\n",
       "  (word_embeddings): Embedding(30289, 100)\n",
       "  (lstm): LSTM(100, 50)\n",
       "  (hidden2tag): Linear(in_features=50, out_features=9, bias=True)\n",
       ")"
      ]
     },
     "execution_count": 31,
     "metadata": {},
     "output_type": "execute_result"
    }
   ],
   "source": [
    "model_loaded"
   ]
  },
  {
   "cell_type": "markdown",
   "metadata": {},
   "source": [
    "### **Task 4**: \n",
    "\n",
    "Implement the calculation of token-level Precision / Recall / F1 /F 0.5 scores for all classes in average. IMPORTANT! Please, implement “micro-average”(https://tomaxent.com/2018/04/27/Micro-and-Macro-average-of-Precision-Recall-and-F-Score/) approach. Don’t use standard functions from scikit-learn or similar external packages (30% of score)."
   ]
  },
  {
   "cell_type": "code",
   "execution_count": 73,
   "metadata": {},
   "outputs": [
    {
     "name": "stdout",
     "output_type": "stream",
     "text": [
      "{'B-LOC': 0, 'B-MISC': 1, 'B-ORG': 2, 'B-PER': 3, 'I-LOC': 4, 'I-MISC': 5, 'I-ORG': 6, 'I-PER': 7, 'O': 8}\n",
      "{'TP': 0, 'TN': 1, 'FP': 2, 'FN': 3}\n",
      "9\n",
      "4\n"
     ]
    }
   ],
   "source": [
    "result_types={'TP':0, 'TN':1, 'FP':2, 'FN':3}\n",
    "print(tag_to_ix)\n",
    "print(result_types)\n",
    "print(len(tag_to_ix))\n",
    "print(len(result_types))"
   ]
  },
  {
   "cell_type": "code",
   "execution_count": 107,
   "metadata": {},
   "outputs": [],
   "source": [
    "def results_matr(resmodel, testdata):\n",
    "    results_matrix=np.zeros((len(tag_to_ix), len(result_types)))\n",
    "    with torch.no_grad():\n",
    "        for w_t in testdata:\n",
    "            inputs = prepare_sequence(w_t[0], word_to_ix)\n",
    "            scores = resmodel(inputs)\n",
    "            outputs = scores.numpy().argmax(axis=1)\n",
    "            tags=prepare_sequence(w_t[1], tag_to_ix)\n",
    "            for i in range(len(outputs)):\n",
    "                pr=outputs[i]\n",
    "                tr=tags[i]\n",
    "                if pr==tr:\n",
    "                    results_matrix[tr,0]+=1\n",
    "                    results_matrix[:,1]+=1\n",
    "                    results_matrix[tr,1]-=1\n",
    "                else:\n",
    "                    results_matrix[pr,2]+=1\n",
    "                    results_matrix[tr,3]+=1\n",
    "                    results_matrix[:,1]+=1\n",
    "                    results_matrix[pr,1]-=1\n",
    "                    results_matrix[tr,1]-=1\n",
    "    return results_matrix"
   ]
  },
  {
   "cell_type": "code",
   "execution_count": 74,
   "metadata": {},
   "outputs": [],
   "source": [
    "results_matrix=results_matr(model, dev_data)"
   ]
  },
  {
   "cell_type": "code",
   "execution_count": 71,
   "metadata": {},
   "outputs": [
    {
     "data": {
      "text/plain": [
       "array([[ 1657., 49142.,   383.,   180.],\n",
       "       [  679., 50265.,   175.,   243.],\n",
       "       [  873., 49801.,   220.,   468.],\n",
       "       [ 1681., 49390.,   130.,   161.],\n",
       "       [  188., 51035.,    70.,    69.],\n",
       "       [  200., 50915.,   101.,   146.],\n",
       "       [  419., 50443.,   168.,   332.],\n",
       "       [ 1233., 49985.,    70.,    74.],\n",
       "       [42280.,  7768.,   835.,   479.]])"
      ]
     },
     "execution_count": 71,
     "metadata": {},
     "output_type": "execute_result"
    }
   ],
   "source": [
    "results_matrix"
   ]
  },
  {
   "cell_type": "markdown",
   "metadata": {},
   "source": [
    "**Micro-average Method**"
   ]
  },
  {
   "cell_type": "code",
   "execution_count": 90,
   "metadata": {},
   "outputs": [],
   "source": [
    "micro_aver_precision = sum(results_matrix[:,0])/(sum(results_matrix[:,0])+sum(results_matrix[:,2]))\n",
    "micro_aver_recall = sum(results_matrix[:,0])/(sum(results_matrix[:,0])+sum(results_matrix[:,3]))\n",
    "f1=2*micro_aver_precision*micro_aver_recall/(micro_aver_precision+micro_aver_recall)\n",
    "f05=1.25*micro_aver_precision*micro_aver_recall/((0.25*micro_aver_precision)+micro_aver_recall)"
   ]
  },
  {
   "cell_type": "code",
   "execution_count": 91,
   "metadata": {},
   "outputs": [
    {
     "name": "stdout",
     "output_type": "stream",
     "text": [
      "Micro-average of precision :  0.9581013200420544\n",
      "Micro-average of recall :  0.9581013200420544\n",
      "F1 score :  0.9581013200420544\n",
      "F0.5 score :  0.9581013200420544\n"
     ]
    }
   ],
   "source": [
    "print('Micro-average of precision : ', micro_aver_precision)\n",
    "print('Micro-average of recall : ', micro_aver_recall)\n",
    "print('F1 score : ', f1)\n",
    "print('F0.5 score : ', f05)"
   ]
  },
  {
   "cell_type": "markdown",
   "metadata": {},
   "source": [
    "*If class A is predicted and the true label is B, then there is a FP for A and a FN for B. If the prediction is correct, i.e. class A is predicted and A is also the true label, denn there is neither a false positive nor a false negative but only a true positive. So there is no possibility that would increase only FP or FN but not both. That is why precision and recall are always the same when using the micro averaging scheme.* - https://simonhessner.de/why-are-precision-recall-and-f1-score-equal-when-using-micro-averaging-in-a-multi-class-problem/"
   ]
  },
  {
   "cell_type": "code",
   "execution_count": 86,
   "metadata": {},
   "outputs": [],
   "source": [
    "micro_aver_precision_only_for_classes = sum(results_matrix[:8,0])/(sum(results_matrix[:8,0])+sum(results_matrix[:8,2]))\n",
    "micro_aver_recall_only_for_classes = sum(results_matrix[:8,0])/(sum(results_matrix[:8,0])+sum(results_matrix[:8,3]))"
   ]
  },
  {
   "cell_type": "code",
   "execution_count": 87,
   "metadata": {},
   "outputs": [
    {
     "name": "stdout",
     "output_type": "stream",
     "text": [
      "Micro-average of precision only for NE tags :  0.8403055656602401\n",
      "Micro-average of recall only for NE tags :  0.80553295362083\n"
     ]
    }
   ],
   "source": [
    "print('Micro-average of precision only for NE tags : ', micro_aver_precision_only_for_classes)\n",
    "print('Micro-average of recall only for NE tags : ', micro_aver_recall_only_for_classes)"
   ]
  },
  {
   "cell_type": "markdown",
   "metadata": {},
   "source": [
    "*Besides micro averaging, one might also consider weighted averaging in case of an unequally distributed data set.*\n",
    "\n",
    "**Macro-average Method**"
   ]
  },
  {
   "cell_type": "code",
   "execution_count": 94,
   "metadata": {},
   "outputs": [
    {
     "name": "stdout",
     "output_type": "stream",
     "text": [
      "[0.8122549  0.79508197 0.79871912 0.92821645 0.72868217 0.66445183\n",
      " 0.71379898 0.94627782 0.98063319]\n",
      "[0.90201415 0.73644252 0.65100671 0.91259501 0.73151751 0.57803468\n",
      " 0.55792277 0.94338179 0.98879768]\n"
     ]
    }
   ],
   "source": [
    "precisions=results_matrix[:,0]/(results_matrix[:,0]+results_matrix[:,2])\n",
    "recalls=results_matrix[:,0]/(results_matrix[:,0]+results_matrix[:,3])\n",
    "print(precisions)\n",
    "print(recalls)"
   ]
  },
  {
   "cell_type": "code",
   "execution_count": 96,
   "metadata": {},
   "outputs": [],
   "source": [
    "macro_aver_precision = sum(precisions)/9\n",
    "macro_aver_recall = sum(recalls)/9\n",
    "macro_f1=2*macro_aver_precision*macro_aver_recall/(macro_aver_precision+macro_aver_recall)\n",
    "macro_f05=1.25*macro_aver_precision*macro_aver_recall/((0.25*macro_aver_precision)+macro_aver_recall)"
   ]
  },
  {
   "cell_type": "code",
   "execution_count": 97,
   "metadata": {},
   "outputs": [
    {
     "name": "stdout",
     "output_type": "stream",
     "text": [
      "Macro-average of precision :  0.8186796035791841\n",
      "Macro-average of recall :  0.7779680909386256\n",
      "Macro F1 score :  0.7978048137654256\n",
      "Macro F0.5 score :  0.8101999586573818\n"
     ]
    }
   ],
   "source": [
    "print('Macro-average of precision : ', macro_aver_precision)\n",
    "print('Macro-average of recall : ', macro_aver_recall)\n",
    "print('Macro F1 score : ', macro_f1)\n",
    "print('Macro F0.5 score : ',macro_f05)"
   ]
  },
  {
   "cell_type": "markdown",
   "metadata": {},
   "source": [
    "### **Task 5**: \n",
    "\n",
    "5. Provide the report the performances (F1 and F0.5 scores) on the dev/ test subsets w.r.t epoch number during the training for the first 5 epochs for each strategy of loading the embeddings (10% of score).\n",
    "\n",
    "**strategy a**"
   ]
  },
  {
   "cell_type": "code",
   "execution_count": 111,
   "metadata": {},
   "outputs": [],
   "source": [
    "EMBEDDING_DIM = embedding_length\n",
    "HIDDEN_DIM = 50\n",
    "EMBEDDING_MATRIX=embeddings_matrix_a\n",
    "VOCAB_SIZE=EMBEDDING_MATRIX.shape[0]\n",
    "TARGET_SIZE=len(tag_to_ix)"
   ]
  },
  {
   "cell_type": "code",
   "execution_count": 112,
   "metadata": {},
   "outputs": [],
   "source": [
    "class LSTMTagger_M(nn.Module):\n",
    "\n",
    "    def __init__(self,EMBEDDING_MATRIX,embedding_dim, hidden_dim, vocab_size, tagset_size):\n",
    "        super(LSTMTagger_M, self).__init__()\n",
    "        self.hidden_dim = hidden_dim\n",
    "        \n",
    "        self.word_embeddings = nn.Embedding(vocab_size, embedding_dim).from_pretrained(\n",
    "        torch.tensor(EMBEDDING_MATRIX, dtype=torch.float))\n",
    "        self.word_embeddings.weight.requires_grad = False\n",
    "        \n",
    "        # The LSTM takes word embeddings as inputs, and outputs hidden states\n",
    "        # with dimensionality hidden_dim.\n",
    "        self.lstm = nn.LSTM(embedding_dim, hidden_dim)\n",
    "\n",
    "        # The linear layer that maps from hidden state space to tag space\n",
    "        self.hidden2tag = nn.Linear(hidden_dim, tagset_size)\n",
    "\n",
    "    def forward(self, sentence):\n",
    "        embeds = self.word_embeddings(sentence)\n",
    "        lstm_out, _ = self.lstm(embeds.view(len(sentence), 1, -1))\n",
    "        tag_space = self.hidden2tag(lstm_out.view(len(sentence), -1))\n",
    "        tag_scores = F.log_softmax(tag_space, dim=1)\n",
    "        return tag_scores"
   ]
  },
  {
   "cell_type": "code",
   "execution_count": 113,
   "metadata": {},
   "outputs": [
    {
     "name": "stdout",
     "output_type": "stream",
     "text": [
      "Start training strategy a..............:\n",
      "Epoch 0 :___________________________________\n",
      "Micro-average of precision on dev :  0.8738172189556481\n",
      "Micro-average of recall on dev :  0.8738172189556481\n",
      "F1 score on dev :  0.873817218955648\n",
      "F0.5 score on dev  :  0.8738172189556481\n",
      "Micro-average of precision on test :  0.8625605685366642\n",
      "Micro-average of recall on test :  0.8625605685366642\n",
      "F1 score on test :  0.8625605685366642\n",
      "F0.5 score on test  :  0.8625605685366642\n",
      "____________________________________________\n",
      "Epoch 1 :___________________________________\n",
      "Micro-average of precision on dev :  0.8836299209532339\n",
      "Micro-average of recall on dev :  0.8836299209532339\n",
      "F1 score on dev :  0.8836299209532339\n",
      "F0.5 score on dev  :  0.8836299209532339\n",
      "Micro-average of precision on test :  0.8683320770970173\n",
      "Micro-average of recall on test :  0.8683320770970173\n",
      "F1 score on test :  0.8683320770970173\n",
      "F0.5 score on test  :  0.8683320770970173\n",
      "____________________________________________\n",
      "Epoch 2 :___________________________________\n",
      "Micro-average of precision on dev :  0.883376815544566\n",
      "Micro-average of recall on dev :  0.883376815544566\n",
      "F1 score on dev :  0.8833768155445659\n",
      "F0.5 score on dev  :  0.883376815544566\n",
      "Micro-average of precision on test :  0.8691288898460213\n",
      "Micro-average of recall on test :  0.8691288898460213\n",
      "F1 score on test :  0.8691288898460213\n",
      "F0.5 score on test  :  0.8691288898460213\n",
      "____________________________________________\n",
      "Epoch 3 :___________________________________\n",
      "Micro-average of precision on dev :  0.8861999143335539\n",
      "Micro-average of recall on dev :  0.8861999143335539\n",
      "F1 score on dev :  0.8861999143335539\n",
      "F0.5 score on dev  :  0.8861999143335539\n",
      "Micro-average of precision on test :  0.871433186174222\n",
      "Micro-average of recall on test :  0.871433186174222\n",
      "F1 score on test :  0.8714331861742222\n",
      "F0.5 score on test  :  0.871433186174222\n",
      "____________________________________________\n",
      "Epoch 4 :___________________________________\n",
      "Micro-average of precision on dev :  0.8883221058370001\n",
      "Micro-average of recall on dev :  0.8883221058370001\n",
      "F1 score on dev :  0.8883221058370001\n",
      "F0.5 score on dev  :  0.8883221058370001\n",
      "Micro-average of precision on test :  0.8722730698826316\n",
      "Micro-average of recall on test :  0.8722730698826316\n",
      "F1 score on test :  0.8722730698826316\n",
      "F0.5 score on test  :  0.8722730698826316\n",
      "____________________________________________\n"
     ]
    }
   ],
   "source": [
    "model_a = LSTMTagger_M(EMBEDDING_MATRIX,EMBEDDING_DIM , HIDDEN_DIM, VOCAB_SIZE, TARGET_SIZE)\n",
    "loss_function = nn.NLLLoss()\n",
    "optimizer = optim.SGD(model_a.parameters(), lr=0.1)\n",
    "\n",
    "print(\"Start training strategy a..............:\")\n",
    "for epoch in range(5): \n",
    "    for sentence, tags in training_data:\n",
    "        # Step 1. Remember that Pytorch accumulates gradients.\n",
    "        # We need to clear them out before each instance        \n",
    "        model_a.zero_grad()\n",
    "\n",
    "        # Step 2. Get our inputs ready for the network, that is, turn them into\n",
    "        # Tensors of word indices.\n",
    "        sentence_in = prepare_sequence(sentence, word_to_ix)\n",
    "        targets = prepare_sequence(tags, tag_to_ix)\n",
    "\n",
    "        \n",
    "        # Step 3. Run our forward pass.\n",
    "        tag_scores = model_a(sentence_in)\n",
    "\n",
    "        # Step 4. Compute the loss, gradients, and update the parameters by\n",
    "        #  calling optimizer.step()\n",
    "        loss = loss_function(tag_scores, targets)\n",
    "        loss.backward()\n",
    "        optimizer.step()\n",
    "    print(f'Epoch {epoch} :___________________________________')\n",
    "    results_matrix_=results_matr(model_a, dev_data)\n",
    "    micro_aver_precision_ = sum(results_matrix_[:,0])/(sum(results_matrix_[:,0])+sum(results_matrix_[:,2]))\n",
    "    micro_aver_recall_ = sum(results_matrix_[:,0])/(sum(results_matrix_[:,0])+sum(results_matrix_[:,3]))\n",
    "    f1_=2*micro_aver_precision_*micro_aver_recall_/(micro_aver_precision_+micro_aver_recall_)\n",
    "    f05_=1.25*micro_aver_precision_*micro_aver_recall_/((0.25*micro_aver_precision_)+micro_aver_recall_)\n",
    "    print('Micro-average of precision on dev : ', micro_aver_precision_)\n",
    "    print('Micro-average of recall on dev : ', micro_aver_recall_)\n",
    "    print('F1 score on dev : ', f1_)\n",
    "    print('F0.5 score on dev  : ', f05_)\n",
    "    results_matrix_=results_matr(model_a, test_data)\n",
    "    micro_aver_precision_ = sum(results_matrix_[:,0])/(sum(results_matrix_[:,0])+sum(results_matrix_[:,2]))\n",
    "    micro_aver_recall_ = sum(results_matrix_[:,0])/(sum(results_matrix_[:,0])+sum(results_matrix_[:,3]))\n",
    "    f1_=2*micro_aver_precision_*micro_aver_recall_/(micro_aver_precision_+micro_aver_recall_)\n",
    "    f05_=1.25*micro_aver_precision_*micro_aver_recall_/((0.25*micro_aver_precision_)+micro_aver_recall_)\n",
    "    print('Micro-average of precision on test : ', micro_aver_precision_)\n",
    "    print('Micro-average of recall on test : ', micro_aver_recall_)\n",
    "    print('F1 score on test : ', f1_)\n",
    "    print('F0.5 score on test  : ', f05_)\n",
    "    print('____________________________________________')"
   ]
  },
  {
   "cell_type": "markdown",
   "metadata": {},
   "source": [
    "**strategy b**"
   ]
  },
  {
   "cell_type": "code",
   "execution_count": 114,
   "metadata": {},
   "outputs": [],
   "source": [
    "EMBEDDING_DIM = embedding_length\n",
    "HIDDEN_DIM = 50\n",
    "EMBEDDING_MATRIX=embeddings_matrix_b\n",
    "VOCAB_SIZE=EMBEDDING_MATRIX.shape[0]\n",
    "TARGET_SIZE=len(tag_to_ix)"
   ]
  },
  {
   "cell_type": "code",
   "execution_count": 115,
   "metadata": {},
   "outputs": [
    {
     "name": "stdout",
     "output_type": "stream",
     "text": [
      "Start training strategy b..............:\n",
      "Epoch 0 :___________________________________\n",
      "Micro-average of precision on dev :  0.9413963630699739\n",
      "Micro-average of recall on dev :  0.9413963630699739\n",
      "F1 score on dev :  0.9413963630699739\n",
      "F0.5 score on dev  :  0.941396363069974\n",
      "Micro-average of precision on test :  0.935264348013352\n",
      "Micro-average of recall on test :  0.935264348013352\n",
      "F1 score on test :  0.935264348013352\n",
      "F0.5 score on test  :  0.935264348013352\n",
      "____________________________________________\n",
      "Epoch 1 :___________________________________\n",
      "Micro-average of precision on dev :  0.9494762665005256\n",
      "Micro-average of recall on dev :  0.9494762665005256\n",
      "F1 score on dev :  0.9494762665005256\n",
      "F0.5 score on dev  :  0.9494762665005256\n",
      "Micro-average of precision on test :  0.940949714654894\n",
      "Micro-average of recall on test :  0.940949714654894\n",
      "F1 score on test :  0.940949714654894\n",
      "F0.5 score on test  :  0.9409497146548939\n",
      "____________________________________________\n",
      "Epoch 2 :___________________________________\n",
      "Micro-average of precision on dev :  0.9529808029282348\n",
      "Micro-average of recall on dev :  0.9529808029282348\n",
      "F1 score on dev :  0.9529808029282348\n",
      "F0.5 score on dev  :  0.9529808029282347\n",
      "Micro-average of precision on test :  0.9443953914073436\n",
      "Micro-average of recall on test :  0.9443953914073436\n",
      "F1 score on test :  0.9443953914073436\n",
      "F0.5 score on test  :  0.9443953914073435\n",
      "____________________________________________\n",
      "Epoch 3 :___________________________________\n",
      "Micro-average of precision on dev :  0.9551808730189635\n",
      "Micro-average of recall on dev :  0.9551808730189635\n",
      "F1 score on dev :  0.9551808730189635\n",
      "F0.5 score on dev  :  0.9551808730189635\n",
      "Micro-average of precision on test :  0.9456229137504037\n",
      "Micro-average of recall on test :  0.9456229137504037\n",
      "F1 score on test :  0.9456229137504037\n",
      "F0.5 score on test  :  0.9456229137504036\n",
      "____________________________________________\n",
      "Epoch 4 :___________________________________\n",
      "Micro-average of precision on dev :  0.9562517035940968\n",
      "Micro-average of recall on dev :  0.9562517035940968\n",
      "F1 score on dev :  0.9562517035940968\n",
      "F0.5 score on dev  :  0.9562517035940968\n",
      "Micro-average of precision on test :  0.9463335845805966\n",
      "Micro-average of recall on test :  0.9463335845805966\n",
      "F1 score on test :  0.9463335845805966\n",
      "F0.5 score on test  :  0.9463335845805966\n",
      "____________________________________________\n"
     ]
    }
   ],
   "source": [
    "model_b = LSTMTagger_M(EMBEDDING_MATRIX,EMBEDDING_DIM , HIDDEN_DIM, VOCAB_SIZE, TARGET_SIZE)\n",
    "loss_function = nn.NLLLoss()\n",
    "optimizer = optim.SGD(model_b.parameters(), lr=0.1)\n",
    "\n",
    "print(\"Start training strategy b..............:\")\n",
    "for epoch in range(5): \n",
    "    for sentence, tags in training_data:\n",
    "        # Step 1. Remember that Pytorch accumulates gradients.\n",
    "        # We need to clear them out before each instance        \n",
    "        model_b.zero_grad()\n",
    "\n",
    "        # Step 2. Get our inputs ready for the network, that is, turn them into\n",
    "        # Tensors of word indices.\n",
    "        sentence_in = prepare_sequence(sentence, word_to_ix)\n",
    "        targets = prepare_sequence(tags, tag_to_ix)\n",
    "\n",
    "        \n",
    "        # Step 3. Run our forward pass.\n",
    "        tag_scores = model_b(sentence_in)\n",
    "\n",
    "        # Step 4. Compute the loss, gradients, and update the parameters by\n",
    "        #  calling optimizer.step()\n",
    "        loss = loss_function(tag_scores, targets)\n",
    "        loss.backward()\n",
    "        optimizer.step()\n",
    "    print(f'Epoch {epoch} :___________________________________')\n",
    "    results_matrix_=results_matr(model_b, dev_data)\n",
    "    micro_aver_precision_ = sum(results_matrix_[:,0])/(sum(results_matrix_[:,0])+sum(results_matrix_[:,2]))\n",
    "    micro_aver_recall_ = sum(results_matrix_[:,0])/(sum(results_matrix_[:,0])+sum(results_matrix_[:,3]))\n",
    "    f1_=2*micro_aver_precision_*micro_aver_recall_/(micro_aver_precision_+micro_aver_recall_)\n",
    "    f05_=1.25*micro_aver_precision_*micro_aver_recall_/((0.25*micro_aver_precision_)+micro_aver_recall_)\n",
    "    print('Micro-average of precision on dev : ', micro_aver_precision_)\n",
    "    print('Micro-average of recall on dev : ', micro_aver_recall_)\n",
    "    print('F1 score on dev : ', f1_)\n",
    "    print('F0.5 score on dev  : ', f05_)\n",
    "    results_matrix_=results_matr(model_b, test_data)\n",
    "    micro_aver_precision_ = sum(results_matrix_[:,0])/(sum(results_matrix_[:,0])+sum(results_matrix_[:,2]))\n",
    "    micro_aver_recall_ = sum(results_matrix_[:,0])/(sum(results_matrix_[:,0])+sum(results_matrix_[:,3]))\n",
    "    f1_=2*micro_aver_precision_*micro_aver_recall_/(micro_aver_precision_+micro_aver_recall_)\n",
    "    f05_=1.25*micro_aver_precision_*micro_aver_recall_/((0.25*micro_aver_precision_)+micro_aver_recall_)\n",
    "    print('Micro-average of precision on test : ', micro_aver_precision_)\n",
    "    print('Micro-average of recall on test : ', micro_aver_recall_)\n",
    "    print('F1 score on test : ', f1_)\n",
    "    print('F0.5 score on test  : ', f05_)\n",
    "    print('____________________________________________')"
   ]
  },
  {
   "cell_type": "markdown",
   "metadata": {},
   "source": [
    "**strategy c**"
   ]
  },
  {
   "cell_type": "code",
   "execution_count": 116,
   "metadata": {},
   "outputs": [],
   "source": [
    "EMBEDDING_DIM = embedding_length\n",
    "HIDDEN_DIM = 50\n",
    "EMBEDDING_MATRIX=embeddings_matrix_c\n",
    "VOCAB_SIZE=EMBEDDING_MATRIX.shape[0]\n",
    "TARGET_SIZE=len(tag_to_ix)"
   ]
  },
  {
   "cell_type": "code",
   "execution_count": 117,
   "metadata": {},
   "outputs": [
    {
     "name": "stdout",
     "output_type": "stream",
     "text": [
      "Start training strategy c..............:\n",
      "Epoch 0 :___________________________________\n",
      "Micro-average of precision on dev :  0.9460496086600989\n",
      "Micro-average of recall on dev :  0.9460496086600989\n",
      "F1 score on dev :  0.9460496086600989\n",
      "F0.5 score on dev  :  0.946049608660099\n",
      "Micro-average of precision on test :  0.935716593087111\n",
      "Micro-average of recall on test :  0.935716593087111\n",
      "F1 score on test :  0.935716593087111\n",
      "F0.5 score on test  :  0.935716593087111\n",
      "____________________________________________\n",
      "Epoch 1 :___________________________________\n",
      "Micro-average of precision on dev :  0.952727697519567\n",
      "Micro-average of recall on dev :  0.952727697519567\n",
      "F1 score on dev :  0.952727697519567\n",
      "F0.5 score on dev  :  0.952727697519567\n",
      "Micro-average of precision on test :  0.9431247981048778\n",
      "Micro-average of recall on test :  0.9431247981048778\n",
      "F1 score on test :  0.9431247981048778\n",
      "F0.5 score on test  :  0.9431247981048779\n",
      "____________________________________________\n",
      "Epoch 2 :___________________________________\n",
      "Micro-average of precision on dev :  0.955648144542658\n",
      "Micro-average of recall on dev :  0.955648144542658\n",
      "F1 score on dev :  0.955648144542658\n",
      "F0.5 score on dev  :  0.9556481445426579\n",
      "Micro-average of precision on test :  0.9447399590825886\n",
      "Micro-average of recall on test :  0.9447399590825886\n",
      "F1 score on test :  0.9447399590825886\n",
      "F0.5 score on test  :  0.9447399590825886\n",
      "____________________________________________\n",
      "Epoch 3 :___________________________________\n",
      "Micro-average of precision on dev :  0.9573225341692302\n",
      "Micro-average of recall on dev :  0.9573225341692302\n",
      "F1 score on dev :  0.9573225341692302\n",
      "F0.5 score on dev  :  0.9573225341692301\n",
      "Micro-average of precision on test :  0.946850436093464\n",
      "Micro-average of recall on test :  0.946850436093464\n",
      "F1 score on test :  0.946850436093464\n",
      "F0.5 score on test  :  0.9468504360934639\n",
      "____________________________________________\n",
      "Epoch 4 :___________________________________\n",
      "Micro-average of precision on dev :  0.9575367002842569\n",
      "Micro-average of recall on dev :  0.9575367002842569\n",
      "F1 score on dev :  0.9575367002842569\n",
      "F0.5 score on dev  :  0.9575367002842567\n",
      "Micro-average of precision on test :  0.9472380747281146\n",
      "Micro-average of recall on test :  0.9472380747281146\n",
      "F1 score on test :  0.9472380747281146\n",
      "F0.5 score on test  :  0.9472380747281146\n",
      "____________________________________________\n"
     ]
    }
   ],
   "source": [
    "model_c = LSTMTagger_M(EMBEDDING_MATRIX,EMBEDDING_DIM , HIDDEN_DIM, VOCAB_SIZE, TARGET_SIZE)\n",
    "loss_function = nn.NLLLoss()\n",
    "optimizer = optim.SGD(model_c.parameters(), lr=0.1)\n",
    "\n",
    "print(\"Start training strategy c..............:\")\n",
    "for epoch in range(5): \n",
    "    for sentence, tags in training_data:\n",
    "        # Step 1. Remember that Pytorch accumulates gradients.\n",
    "        # We need to clear them out before each instance        \n",
    "        model_c.zero_grad()\n",
    "\n",
    "        # Step 2. Get our inputs ready for the network, that is, turn them into\n",
    "        # Tensors of word indices.\n",
    "        sentence_in = prepare_sequence(sentence, word_to_ix)\n",
    "        targets = prepare_sequence(tags, tag_to_ix)\n",
    "\n",
    "        \n",
    "        # Step 3. Run our forward pass.\n",
    "        tag_scores = model_c(sentence_in)\n",
    "\n",
    "        # Step 4. Compute the loss, gradients, and update the parameters by\n",
    "        #  calling optimizer.step()\n",
    "        loss = loss_function(tag_scores, targets)\n",
    "        loss.backward()\n",
    "        optimizer.step()\n",
    "    print(f'Epoch {epoch} :___________________________________')\n",
    "    results_matrix_=results_matr(model_c, dev_data)\n",
    "    micro_aver_precision_ = sum(results_matrix_[:,0])/(sum(results_matrix_[:,0])+sum(results_matrix_[:,2]))\n",
    "    micro_aver_recall_ = sum(results_matrix_[:,0])/(sum(results_matrix_[:,0])+sum(results_matrix_[:,3]))\n",
    "    f1_=2*micro_aver_precision_*micro_aver_recall_/(micro_aver_precision_+micro_aver_recall_)\n",
    "    f05_=1.25*micro_aver_precision_*micro_aver_recall_/((0.25*micro_aver_precision_)+micro_aver_recall_)\n",
    "    print('Micro-average of precision on dev : ', micro_aver_precision_)\n",
    "    print('Micro-average of recall on dev : ', micro_aver_recall_)\n",
    "    print('F1 score on dev : ', f1_)\n",
    "    print('F0.5 score on dev  : ', f05_)\n",
    "    results_matrix_=results_matr(model_c, test_data)\n",
    "    micro_aver_precision_ = sum(results_matrix_[:,0])/(sum(results_matrix_[:,0])+sum(results_matrix_[:,2]))\n",
    "    micro_aver_recall_ = sum(results_matrix_[:,0])/(sum(results_matrix_[:,0])+sum(results_matrix_[:,3]))\n",
    "    f1_=2*micro_aver_precision_*micro_aver_recall_/(micro_aver_precision_+micro_aver_recall_)\n",
    "    f05_=1.25*micro_aver_precision_*micro_aver_recall_/((0.25*micro_aver_precision_)+micro_aver_recall_)\n",
    "    print('Micro-average of precision on test : ', micro_aver_precision_)\n",
    "    print('Micro-average of recall on test : ', micro_aver_recall_)\n",
    "    print('F1 score on test : ', f1_)\n",
    "    print('F0.5 score on test  : ', f05_)\n",
    "    print('____________________________________________')"
   ]
  }
 ],
 "metadata": {
  "kernelspec": {
   "display_name": "Python 3",
   "language": "python",
   "name": "python3"
  },
  "language_info": {
   "codemirror_mode": {
    "name": "ipython",
    "version": 3
   },
   "file_extension": ".py",
   "mimetype": "text/x-python",
   "name": "python",
   "nbconvert_exporter": "python",
   "pygments_lexer": "ipython3",
   "version": "3.6.7"
  }
 },
 "nbformat": 4,
 "nbformat_minor": 2
}
